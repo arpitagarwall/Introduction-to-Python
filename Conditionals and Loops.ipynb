{
 "cells": [
  {
   "cell_type": "code",
   "execution_count": 1,
   "id": "1b045189",
   "metadata": {},
   "outputs": [
    {
     "name": "stdout",
     "output_type": "stream",
     "text": [
      "10\n",
      "Positive\n"
     ]
    }
   ],
   "source": [
    "#Positive negative zero\n",
    "n = int(input())\n",
    "\n",
    "if n > 0:\n",
    "    print(\"Positive\")\n",
    "elif n == 0:\n",
    "    print(\"Zero\")\n",
    "else:\n",
    "    print(\"Negative\")"
   ]
  },
  {
   "cell_type": "code",
   "execution_count": 3,
   "id": "57d7e77b",
   "metadata": {},
   "outputs": [
    {
     "name": "stdout",
     "output_type": "stream",
     "text": [
      "10\n",
      "55\n"
     ]
    }
   ],
   "source": [
    "#Sum of numbers\n",
    "n = int(input())\n",
    "count = 1\n",
    "sum_n = 0\n",
    "while count <= n:\n",
    "    sum_n = sum_n + count\n",
    "    count = count + 1\n",
    "print(sum_n)"
   ]
  },
  {
   "cell_type": "code",
   "execution_count": 5,
   "id": "05752ab7",
   "metadata": {},
   "outputs": [
    {
     "name": "stdout",
     "output_type": "stream",
     "text": [
      "6\n",
      "12\n"
     ]
    }
   ],
   "source": [
    "#Sum of even numbers\n",
    "n = int(input())\n",
    "count = 1\n",
    "sum_n = 0\n",
    "while count <= n:\n",
    "    if count % 2 == 0:\n",
    "        sum_n = sum_n + count\n",
    "    count = count + 1\n",
    "print(sum_n)"
   ]
  },
  {
   "cell_type": "code",
   "execution_count": 10,
   "id": "2846cc34",
   "metadata": {},
   "outputs": [
    {
     "name": "stdout",
     "output_type": "stream",
     "text": [
      "20\n",
      "119\n",
      "13\n",
      "-6 \t 20\n",
      "0 \t 33\n",
      "7 \t 46\n",
      "15 \t 59\n",
      "22 \t 72\n",
      "29 \t 85\n",
      "36 \t 98\n",
      "43 \t 111\n"
     ]
    }
   ],
   "source": [
    "#Fahrenheit to Celsius with gap\n",
    "S = int(input())\n",
    "E = int(input())\n",
    "W = int(input())\n",
    "\n",
    "while S <= E:\n",
    "    Celcius = (S - 32) * 5 / 9\n",
    "    print(S,\"\\t\",int(Celcius))\n",
    "    S = S + W"
   ]
  },
  {
   "cell_type": "code",
   "execution_count": null,
   "id": "8d0e96b3",
   "metadata": {},
   "outputs": [],
   "source": []
  },
  {
   "cell_type": "code",
   "execution_count": 18,
   "id": "bf2460aa",
   "metadata": {},
   "outputs": [
    {
     "name": "stdout",
     "output_type": "stream",
     "text": [
      "1230\n",
      "321\n"
     ]
    }
   ],
   "source": [
    "#Reverse of a number\n",
    "def reverse(n):\n",
    "    count = 1\n",
    "    str_num = str(n)\n",
    "    result = \"\"\n",
    "    while count <= len(str_num):\n",
    "        if str_num[len(str_num) - count] != 0:\n",
    "        \tresult = result + str_num[len(str_num) - count]\n",
    "        count = count + 1\n",
    "    return int(result)\n",
    "\n",
    "n=int(input())\n",
    "result = reverse(n)\n",
    "print(result)"
   ]
  },
  {
   "cell_type": "code",
   "execution_count": 22,
   "id": "04b11e44",
   "metadata": {},
   "outputs": [
    {
     "name": "stdout",
     "output_type": "stream",
     "text": [
      "3\n",
      "1\n",
      "2\n",
      "2\n",
      "4\n",
      "4\n",
      "2\n",
      "2\n",
      "1\n",
      "3\n",
      "2\n",
      "5\n",
      "7\n",
      "Invalid Operation\n",
      "6\n"
     ]
    }
   ],
   "source": [
    "#Calculator with loop\n",
    "n = int(input())\n",
    "while n > 0:\n",
    "    if n == 1:\n",
    "        a = int(input())\n",
    "        b = int(input())\n",
    "        print(int(a + b))\n",
    "        n = int(input())\n",
    "    elif n == 2:\n",
    "        a = int(input())\n",
    "        b = int(input())\n",
    "        print(int(a - b))\n",
    "        n = int(input())\n",
    "    elif n == 3:\n",
    "        a = int(input())\n",
    "        b = int(input())\n",
    "        print(int(a * b))\n",
    "        n = int(input())\n",
    "    elif n == 4:\n",
    "        a = int(input())\n",
    "        b = int(input())\n",
    "        print(int(a / b))\n",
    "        n = int(input())\n",
    "    elif n == 5:\n",
    "        a = int(input())\n",
    "        b = int(input())\n",
    "        print(int(a % b))\n",
    "        n = int(input())\n",
    "    elif n == 6:\n",
    "        break\n",
    "    elif n > 6:\n",
    "        print(\"Invalid Operation\")\n",
    "        n = int(input())"
   ]
  },
  {
   "cell_type": "code",
   "execution_count": 31,
   "id": "feca8fbc",
   "metadata": {},
   "outputs": [
    {
     "name": "stdout",
     "output_type": "stream",
     "text": [
      "1234\n",
      "false\n"
     ]
    }
   ],
   "source": [
    "#palindrome of a number\n",
    "def checkPalindrome(num):\n",
    "    count = 1\n",
    "    str_num = str(num)\n",
    "    result = \"\"\n",
    "    flag = False\n",
    "    while count <= len(str_num):\n",
    "        if str_num[len(str_num) - count] != 0:\n",
    "        \tresult = result + str_num[len(str_num) - count]\n",
    "        count = count + 1\n",
    "    rev_num = int(result)\n",
    "    if num == rev_num:\n",
    "        flag = True\n",
    "    return flag\n",
    "\n",
    "num = int(input())\n",
    "isPalindrome = checkPalindrome(num)\n",
    "if(isPalindrome):\n",
    "\tprint('true')\n",
    "else:\n",
    "\tprint('false')"
   ]
  },
  {
   "cell_type": "code",
   "execution_count": 35,
   "id": "103b9633",
   "metadata": {},
   "outputs": [
    {
     "name": "stdout",
     "output_type": "stream",
     "text": [
      "1234\n",
      "6 \t 4\n"
     ]
    }
   ],
   "source": [
    "#Sum of even & odd\n",
    "n = int(input())\n",
    "count = 0\n",
    "str_num = str(n)\n",
    "sum_even = 0\n",
    "sum_odd = 0\n",
    "while count < len(str_num):\n",
    "    if int(str_num[count]) % 2 == 0:\n",
    "        sum_even = sum_even + int(str_num[count])\n",
    "    else:\n",
    "        sum_odd = sum_odd + int(str_num[count])\n",
    "    count = count + 1\n",
    "print(sum_even,\"\\t\",sum_odd)"
   ]
  },
  {
   "cell_type": "code",
   "execution_count": 43,
   "id": "ae6b93ba",
   "metadata": {},
   "outputs": [
    {
     "name": "stdout",
     "output_type": "stream",
     "text": [
      "6\n",
      "8\n"
     ]
    }
   ],
   "source": [
    "#Fibonacci nth term\n",
    "n = int(input())\n",
    "a = 0\n",
    "b = 1\n",
    "count = 0\n",
    "fib_list = []\n",
    "while count <= n:\n",
    "    fib_list.append(a)\n",
    "    c = a + b\n",
    "    a = b\n",
    "    b = c\n",
    "    count = count + 1\n",
    "print(fib_list[n])"
   ]
  },
  {
   "cell_type": "code",
   "execution_count": null,
   "id": "70c28cef",
   "metadata": {},
   "outputs": [],
   "source": []
  }
 ],
 "metadata": {
  "kernelspec": {
   "display_name": "Python 3",
   "language": "python",
   "name": "python3"
  },
  "language_info": {
   "codemirror_mode": {
    "name": "ipython",
    "version": 3
   },
   "file_extension": ".py",
   "mimetype": "text/x-python",
   "name": "python",
   "nbconvert_exporter": "python",
   "pygments_lexer": "ipython3",
   "version": "3.8.8"
  }
 },
 "nbformat": 4,
 "nbformat_minor": 5
}
