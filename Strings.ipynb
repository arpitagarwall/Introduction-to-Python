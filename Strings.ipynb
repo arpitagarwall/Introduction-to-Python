{
 "cells": [
  {
   "cell_type": "code",
   "execution_count": 21,
   "id": "e0f424b7",
   "metadata": {},
   "outputs": [
    {
     "name": "stdout",
     "output_type": "stream",
     "text": [
      "a\n",
      "a\n",
      "true\n"
     ]
    }
   ],
   "source": [
    "# string Palindrome\n",
    "def isPalindrome(string):\n",
    "    toMatch = \"\"\n",
    "    flag = False\n",
    "    for i in range(len(string),0,-1):\n",
    "        toMatch = toMatch + string[i-1]\n",
    "    if toMatch == string:\n",
    "        flag = True\n",
    "    else:\n",
    "        flag = False\n",
    "    return flag\n",
    "\n",
    "string = input()\n",
    "ans = isPalindrome(string)\n",
    "if ans:\n",
    "    print('true')\n",
    "else:\n",
    "    print('false')"
   ]
  },
  {
   "cell_type": "code",
   "execution_count": 19,
   "id": "bfb8c469",
   "metadata": {},
   "outputs": [
    {
     "name": "stdout",
     "output_type": "stream",
     "text": [
      "aab\n",
      "baa\n",
      "true\n"
     ]
    }
   ],
   "source": [
    "#Check Permutation\n",
    "def isPermutation(string1, string2):\n",
    "    flag = False\n",
    "    result1 = []\n",
    "    result2 = []\n",
    "    if len(string1) == len(string2):\n",
    "        for i in string1:\n",
    "            result1.append(ord(i))\n",
    "        for j in string2:\n",
    "            result2.append(ord(j))\n",
    "        if sum(result1) == sum(result2):\n",
    "            flag = True\n",
    "    return flag\n",
    "\n",
    "string1 = input()\n",
    "string2 = input()\n",
    "ans = isPermutation(string1, string2)\n",
    "if ans:\n",
    "    print('true')\n",
    "else:\n",
    "    print('false')"
   ]
  },
  {
   "cell_type": "code",
   "execution_count": 38,
   "id": "18acc9fa",
   "metadata": {},
   "outputs": [
    {
     "name": "stdout",
     "output_type": "stream",
     "text": [
      "aaaa\n",
      "a\n"
     ]
    }
   ],
   "source": [
    "#remove Consecutive Duplicates\n",
    "def removeConsecutiveDuplicates(string):\n",
    "    result = \"\"\n",
    "    if len(string) == 1:\n",
    "        result = string\n",
    "        return result\n",
    "    elif len(result) == 0:\n",
    "        result = string[0]\n",
    "        for i in range(0,len(string),1):\n",
    "            if result[-1] != string[i]:\n",
    "                result = result + string[i]\n",
    "    return result\n",
    "string = input()\n",
    "ans = removeConsecutiveDuplicates(string)\n",
    "print(ans)"
   ]
  },
  {
   "cell_type": "code",
   "execution_count": 55,
   "id": "7b78b941",
   "metadata": {},
   "outputs": [
    {
     "name": "stdout",
     "output_type": "stream",
     "text": [
      "Welcome to Coding Ninjas\n",
      "emocleW ot gnidoC sajniN\n"
     ]
    }
   ],
   "source": [
    "#reverse Each Word\n",
    "def reverseEachWord(string):\n",
    "    input_str = []\n",
    "    input_str = string.split()\n",
    "    output = []\n",
    "    for i in range(0,len(input_str),1):\n",
    "        temp = \"\"\n",
    "        for j in range(len(input_str[i]) - 1, -1, -1):\n",
    "            temp = temp + input_str[i][j]\n",
    "        output.append(temp)\n",
    "    return output\n",
    "\n",
    "string = input()\n",
    "ans = reverseEachWord(string)\n",
    "print(*ans, sep = \" \")"
   ]
  },
  {
   "cell_type": "code",
   "execution_count": 57,
   "id": "bbfbcc4d",
   "metadata": {},
   "outputs": [
    {
     "name": "stdout",
     "output_type": "stream",
     "text": [
      "xxyyzxx\n",
      "y\n",
      "xxzxx\n"
     ]
    }
   ],
   "source": [
    "#remove All Occurrences Of Char\n",
    "def removeAllOccurrencesOfChar(string, ch):\n",
    "    result = \"\"\n",
    "    for i in string:\n",
    "        if i != ch:\n",
    "            result = result + i\n",
    "    return result\n",
    "\n",
    "string = input()\n",
    "s = input()\n",
    "ch = s[0]\n",
    "ans = removeAllOccurrencesOfChar(string, ch)\n",
    "print(ans)"
   ]
  },
  {
   "cell_type": "code",
   "execution_count": 3,
   "id": "c3badc08",
   "metadata": {},
   "outputs": [
    {
     "name": "stdout",
     "output_type": "stream",
     "text": [
      "xxyyzxx\n",
      "x\n"
     ]
    }
   ],
   "source": [
    "#Highest Occuring Character\n",
    "def highestOccuringChar(string):\n",
    "    result = [0] * 256\n",
    "    max_count = 0\n",
    "    ans = \"\"\n",
    "    for i in range(0, len(string),1):\n",
    "        result[ord(string[i])] = result[ord(string[i])] + 1\n",
    "    max_count = max(result)\n",
    "    for j in range(0,len(result),1):\n",
    "        if max_count == result[j]:\n",
    "            ans = chr(j)\n",
    "            break\n",
    "    return ans\n",
    "\n",
    "string = input()\n",
    "ans = highestOccuringChar(string)\n",
    "print(ans)"
   ]
  },
  {
   "cell_type": "code",
   "execution_count": 83,
   "id": "6fdaa752",
   "metadata": {},
   "outputs": [
    {
     "name": "stdout",
     "output_type": "stream",
     "text": [
      "aaabbcddeeeee\n",
      "['aaa', 'bb', 'c', 'dd', 'eeeee']\n",
      "a3b2cd2e5\n"
     ]
    }
   ],
   "source": [
    "def getCompressedString(string):\n",
    "    n = len(string)\n",
    "    i = 0\n",
    "    output = []\n",
    "    final = \"\"\n",
    "    while i < len(string)+1:\n",
    "        i = 0\n",
    "        count = 0\n",
    "        j = 0\n",
    "        ans = \"\"\n",
    "        while j < len(string):\n",
    "            if string[i] == string[j]:\n",
    "                count = count + 1\n",
    "                ans = ans + string[i]\n",
    "                if j == len(string) - 1:\n",
    "                    output.append(ans)\n",
    "            else:\n",
    "                output.append(ans)\n",
    "                break\n",
    "            j = j + 1\n",
    "        string =string[count:]\n",
    "        i = i + 1\n",
    "    for k in range(0,len(output),1):\n",
    "        if len(output[k]) > 1:\n",
    "            final = final + output[k][0] + str(len(output[k]))\n",
    "        else:\n",
    "            final = final + output[k]\n",
    "    return final\n",
    "string = input()\n",
    "ans = getCompressedString(string)\n",
    "print(ans)"
   ]
  }
 ],
 "metadata": {
  "kernelspec": {
   "display_name": "Python 3",
   "language": "python",
   "name": "python3"
  },
  "language_info": {
   "codemirror_mode": {
    "name": "ipython",
    "version": 3
   },
   "file_extension": ".py",
   "mimetype": "text/x-python",
   "name": "python",
   "nbconvert_exporter": "python",
   "pygments_lexer": "ipython3",
   "version": "3.8.8"
  }
 },
 "nbformat": 4,
 "nbformat_minor": 5
}
