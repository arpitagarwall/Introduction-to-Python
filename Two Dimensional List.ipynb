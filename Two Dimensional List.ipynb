{
 "cells": [
  {
   "cell_type": "code",
   "execution_count": 10,
   "id": "5c7615c2",
   "metadata": {},
   "outputs": [
    {
     "name": "stdout",
     "output_type": "stream",
     "text": [
      "1\n",
      "4 2\n",
      "1 2\n",
      "3 4\n",
      "5 6\n",
      "7 8\n",
      "3 7 11 15\n"
     ]
    }
   ],
   "source": [
    "#Row wise sum\n",
    "def rowWiseSum(mat, nRows, mCols):\n",
    "    output = []\n",
    "    for i in mat:\n",
    "        sum_num = 0\n",
    "        for j in i:\n",
    "            sum_num = sum_num + j\n",
    "        output.append(sum_num)\n",
    "    return output\n",
    "\n",
    "t = int(input())\n",
    "while t > 0:\n",
    "    string = input().split()\n",
    "    n,m = int(string[0]),int(string[1])\n",
    "    li = [[int(j) for j in input().split()] for i in range(n)]\n",
    "    result = rowWiseSum(li,n,m)\n",
    "    print(*result, sep = \" \")\n",
    "    t = t - 1"
   ]
  },
  {
   "cell_type": "code",
   "execution_count": 38,
   "id": "a40dc46d",
   "metadata": {},
   "outputs": [
    {
     "name": "stdout",
     "output_type": "stream",
     "text": [
      "1\n",
      "4 4\n",
      "6 9 8 5\n",
      "9 2 4 1\n",
      "8 3 9 3\n",
      "8 7 8 6\n",
      "column 0 31\n"
     ]
    }
   ],
   "source": [
    "#Largest Row or Column\n",
    "def findLargest(arr, nRows, mCols):\n",
    "    max_col = -2147483648\n",
    "    max_row = -2147483648\n",
    "    index_col = -1\n",
    "    index_row = -1\n",
    "    output = []\n",
    "    for i in range(0,n,1):\n",
    "        sum_row = 0\n",
    "        for j in range(0,m,1):\n",
    "            sum_row = sum_row + arr[i][j]\n",
    "        if sum_row > max_row:\n",
    "            index_row = i\n",
    "            max_row = sum_row\n",
    "    for i in range(0,m,1):\n",
    "        sum_col = 0\n",
    "        for j in range(0,n,1):\n",
    "            sum_col = sum_col + arr[j][i]\n",
    "        if sum_col > max_col:\n",
    "            index_col = i\n",
    "            max_col = sum_col\n",
    "    if max_row > max_col:\n",
    "        output.append(\"row\")\n",
    "        output.append(index_row)\n",
    "        output.append(max_row)\n",
    "    elif max_row == max_col:\n",
    "        output.append(\"row\")\n",
    "        output.append(index_row)\n",
    "        output.append(max_row)\n",
    "    else:\n",
    "        output.append(\"column\")\n",
    "        output.append(index_col)\n",
    "        output.append(max_col)\n",
    "    return output\n",
    "\n",
    "t = int(input())\n",
    "while t > 0:\n",
    "    string = input().split()\n",
    "    n,m = int(string[0]),int(string[1])\n",
    "    if n != 0 and m != 0:\n",
    "        li = [[int(j) for j in input().split()] for i in range(n)]\n",
    "        result = findLargest(li,n,m)\n",
    "        print(*result, sep = \" \")\n",
    "    else:\n",
    "        print(\"row\",0,-2147483648)\n",
    "    t = t - 1"
   ]
  },
  {
   "cell_type": "code",
   "execution_count": 44,
   "id": "baf15a27",
   "metadata": {},
   "outputs": [
    {
     "name": "stdout",
     "output_type": "stream",
     "text": [
      "1\n",
      "3 4\n",
      "1 2 3 4\n",
      "5 6 7 8\n",
      "9 10 11 12\n",
      "1 5 9 10 6 2 3 7 11 12 8 4\n"
     ]
    }
   ],
   "source": [
    "def wavePrint(mat, nRows, mCols):\n",
    "    output = []\n",
    "    for i in range(0,m,1):\n",
    "        if i % 2 == 0:\n",
    "            for j in range(0,n,1):\n",
    "                output.append(mat[j][i])\n",
    "        else:\n",
    "            for j in range(n - 1,-1,-1):\n",
    "                output.append(mat[j][i])\n",
    "    return output\n",
    "\n",
    "t = int(input())\n",
    "while t > 0:\n",
    "    string = input().split()\n",
    "    n,m = int(string[0]),int(string[1])\n",
    "    if n != 0 and m != 0:\n",
    "        li = [[int(j) for j in input().split()] for i in range(n)]\n",
    "        result = wavePrint(li,n,m)\n",
    "        print(*result, sep = \" \")\n",
    "    else:\n",
    "        pass\n",
    "    t = t - 1"
   ]
  },
  {
   "cell_type": "code",
   "execution_count": 33,
   "id": "9bf1bb9a",
   "metadata": {},
   "outputs": [
    {
     "name": "stdout",
     "output_type": "stream",
     "text": [
      "1\n",
      "4 4\n",
      "1 2 3 4\n",
      "5 6 7 8\n",
      "9 10 11 12\n",
      "13 14 15 16\n",
      "1 2 3 4 8 12 16 15 14 13 9 5 6 7 11 10\n"
     ]
    }
   ],
   "source": [
    "def spiralPrint(mat, nRows, mCols):\n",
    "    output = []\n",
    "    cs = 0\n",
    "    ce = mCols\n",
    "    rs = 0\n",
    "    re = nRows\n",
    "    count = mCols * nRows \n",
    "    while count >= 1:\n",
    "        for j in range(cs,ce,1):\n",
    "            output.append(mat[rs][j])\n",
    "            count = count - 1\n",
    "        rs = rs + 1\n",
    "        for i in range(rs,re,1):\n",
    "            output.append(mat[i][ce - 1])\n",
    "            count = count - 1\n",
    "        ce = ce - 1\n",
    "        for k in range(ce-1,cs-1,-1):\n",
    "            output.append(mat[re - 1][k])\n",
    "            count = count - 1\n",
    "        re = re - 1\n",
    "        for q in range(re-1,rs-1,-1):\n",
    "            output.append(mat[q][cs])\n",
    "            count = count - 1\n",
    "        cs = cs + 1\n",
    "    return output\n",
    "\n",
    "t = int(input())\n",
    "while t > 0:\n",
    "    string = input().split()\n",
    "    n,m = int(string[0]),int(string[1])\n",
    "    if n != 0 and m != 0:\n",
    "        li = [[int(j) for j in input().split()] for i in range(n)]\n",
    "        result = spiralPrint(li,n,m)\n",
    "        print(*result, sep = \" \")\n",
    "    else:\n",
    "        pass\n",
    "    t = t - 1"
   ]
  },
  {
   "cell_type": "code",
   "execution_count": null,
   "id": "d8051ca7",
   "metadata": {},
   "outputs": [],
   "source": []
  }
 ],
 "metadata": {
  "kernelspec": {
   "display_name": "Python 3",
   "language": "python",
   "name": "python3"
  },
  "language_info": {
   "codemirror_mode": {
    "name": "ipython",
    "version": 3
   },
   "file_extension": ".py",
   "mimetype": "text/x-python",
   "name": "python",
   "nbconvert_exporter": "python",
   "pygments_lexer": "ipython3",
   "version": "3.8.8"
  }
 },
 "nbformat": 4,
 "nbformat_minor": 5
}
