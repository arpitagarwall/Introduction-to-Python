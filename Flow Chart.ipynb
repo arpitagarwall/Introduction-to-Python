{
 "cells": [
  {
   "cell_type": "code",
   "execution_count": 25,
   "id": "b26a3864",
   "metadata": {},
   "outputs": [
    {
     "name": "stdout",
     "output_type": "stream",
     "text": [
      "Enter a Number to get a factorial : 5\n",
      "120\n"
     ]
    }
   ],
   "source": [
    "# Factorial of number\n",
    "N = int(input(\"Enter a Number to get a factorial : \"))\n",
    "fact = 1\n",
    "for num in range (1,N+1):\n",
    "    if N == 0 or N == 0:\n",
    "        print(1)\n",
    "    else:\n",
    "        fact = fact * num\n",
    "print(fact)"
   ]
  },
  {
   "cell_type": "code",
   "execution_count": 27,
   "id": "e9223528",
   "metadata": {},
   "outputs": [
    {
     "name": "stdout",
     "output_type": "stream",
     "text": [
      "-1\n"
     ]
    }
   ],
   "source": [
    "# Largest Number in List\n",
    "num_list = [-1,-10,-15,-15,-20]\n",
    "Largest = -100000\n",
    "for num in range(0,len(num_list)):\n",
    "    if num_list[num] > Largest:\n",
    "        Largest = num_list[num]\n",
    "print(Largest)"
   ]
  },
  {
   "cell_type": "code",
   "execution_count": 32,
   "id": "fe0e1390",
   "metadata": {},
   "outputs": [
    {
     "name": "stdout",
     "output_type": "stream",
     "text": [
      "Enter a First Side of Triangle : 10\n",
      "Enter a Second Side of Triangle : 10\n",
      "Enter a Third Side of Triangle : 10\n",
      "1 means Equilateral\n"
     ]
    }
   ],
   "source": [
    "#To check type of Triangle\n",
    "A = int(input(\"Enter a First Side of Triangle : \"))\n",
    "B = int(input(\"Enter a Second Side of Triangle : \"))\n",
    "C = int(input(\"Enter a Third Side of Triangle : \"))\n",
    "\n",
    "if A == B and B == C:\n",
    "    print(\"1 means \" + \"Equilateral\")\n",
    "elif A == B or B == C or C == A:\n",
    "    print(\"0 means \" + \"Iscolesces\")\n",
    "else:\n",
    "    print(\"-1 means \" + \"Scalene\")"
   ]
  },
  {
   "cell_type": "code",
   "execution_count": 38,
   "id": "7d6a554f",
   "metadata": {},
   "outputs": [
    {
     "name": "stdout",
     "output_type": "stream",
     "text": [
      "Enter a Number to get a Sum of Even number : 10\n",
      "30\n"
     ]
    }
   ],
   "source": [
    "# sum of even number\n",
    "N = int(input(\"Enter a Number to get a Sum of Even number : \"))\n",
    "sum_even = 0\n",
    "for num in range(1,N+1):\n",
    "    if num % 2 == 0:\n",
    "        sum_even = sum_even + num\n",
    "print(sum_even)"
   ]
  },
  {
   "cell_type": "code",
   "execution_count": 49,
   "id": "0cc22c80",
   "metadata": {},
   "outputs": [
    {
     "name": "stdout",
     "output_type": "stream",
     "text": [
      "Enter a first Number to check for GCD : 6\n",
      "Enter a second Number to check for GCD : 9\n",
      "3\n"
     ]
    }
   ],
   "source": [
    "# find GCD\n",
    "N = int(input(\"Enter a first Number to check for GCD : \"))\n",
    "M = int(input(\"Enter a second Number to check for GCD : \"))\n",
    "first_list = []\n",
    "second_list = []\n",
    "final_list = []\n",
    "for num in range(2,N):\n",
    "    if N % num == 0:\n",
    "        first_list.append(num)\n",
    "for ele in range(2,M):\n",
    "    if M % ele == 0:\n",
    "        second_list.append(ele)\n",
    "for common in first_list:\n",
    "    if common in second_list:\n",
    "        final_list.append(common)\n",
    "print(final_list[0])"
   ]
  },
  {
   "cell_type": "code",
   "execution_count": 60,
   "id": "704d4f79",
   "metadata": {},
   "outputs": [
    {
     "name": "stdout",
     "output_type": "stream",
     "text": [
      "Enter a Number to get all prime number : 11\n",
      "2\n",
      "3\n",
      "5\n",
      "7\n",
      "11\n"
     ]
    }
   ],
   "source": [
    "# All Prime\n",
    "N = int(input(\"Enter a Number to get all prime number : \"))\n",
    "prime_list = []\n",
    "for num in range(1,N+1):\n",
    "    if num > 1:\n",
    "        for ele in range(2, num):\n",
    "            if (num % ele) == 0:\n",
    "                break\n",
    "        else:\n",
    "            print(num)"
   ]
  },
  {
   "cell_type": "code",
   "execution_count": 85,
   "id": "29873b00",
   "metadata": {},
   "outputs": [
    {
     "name": "stdout",
     "output_type": "stream",
     "text": [
      "Enter a Number to get all Fibonacci number : 10\n",
      "0\n",
      "1\n",
      "1\n",
      "2\n",
      "3\n",
      "5\n",
      "8\n",
      "13\n",
      "21\n",
      "34\n",
      "55\n"
     ]
    }
   ],
   "source": [
    "# Fibonacci Number\n",
    "N = int(input(\"Enter a Number to get all Fibonacci number : \"))\n",
    "flag = 0\n",
    "count = 1\n",
    "for num in range(N+1):\n",
    "    sum_fib = flag + count\n",
    "    out = flag\n",
    "    flag = count\n",
    "    count = sum_fib\n",
    "    print(out)"
   ]
  },
  {
   "cell_type": "code",
   "execution_count": 99,
   "id": "449045e2",
   "metadata": {},
   "outputs": [
    {
     "name": "stdout",
     "output_type": "stream",
     "text": [
      "Enter a Number to check member of Fibonacci : 5\n",
      "Yes\n"
     ]
    }
   ],
   "source": [
    "# Member of Fibonacci\n",
    "N = int(input(\"Enter a Number to check member of Fibonacci : \"))\n",
    "flag = 0\n",
    "count = 1\n",
    "while(flag < N):\n",
    "    sum_fib = flag + count\n",
    "    out = flag\n",
    "    flag = count\n",
    "    count = sum_fib\n",
    "if flag == N:\n",
    "    print(\"Yes\")\n",
    "else:\n",
    "    print(\"No\")"
   ]
  },
  {
   "cell_type": "code",
   "execution_count": null,
   "id": "23c9556d",
   "metadata": {},
   "outputs": [],
   "source": []
  },
  {
   "cell_type": "code",
   "execution_count": null,
   "id": "7612fbe3",
   "metadata": {},
   "outputs": [],
   "source": []
  },
  {
   "cell_type": "code",
   "execution_count": null,
   "id": "0a54bd46",
   "metadata": {},
   "outputs": [],
   "source": []
  }
 ],
 "metadata": {
  "kernelspec": {
   "display_name": "Python 3",
   "language": "python",
   "name": "python3"
  },
  "language_info": {
   "codemirror_mode": {
    "name": "ipython",
    "version": 3
   },
   "file_extension": ".py",
   "mimetype": "text/x-python",
   "name": "python",
   "nbconvert_exporter": "python",
   "pygments_lexer": "ipython3",
   "version": "3.8.8"
  }
 },
 "nbformat": 4,
 "nbformat_minor": 5
}
