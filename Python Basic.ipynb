{
 "cells": [
  {
   "cell_type": "code",
   "execution_count": 6,
   "id": "9e0d5bb1",
   "metadata": {},
   "outputs": [
    {
     "name": "stdout",
     "output_type": "stream",
     "text": [
      "6\n",
      "7\n",
      "8\n",
      "6.666666666666667\n"
     ]
    }
   ],
   "source": [
    "#Average of numbers\n",
    "a = int(input())\n",
    "b = int(input())\n",
    "c = int(input())\n",
    "\n",
    "avg_marks = ((a+b+c)/3)\n",
    "print(avg_marks)"
   ]
  },
  {
   "cell_type": "code",
   "execution_count": 7,
   "id": "d22ec27a",
   "metadata": {},
   "outputs": [
    {
     "name": "stdout",
     "output_type": "stream",
     "text": [
      "10\n",
      "4\n",
      "10000\n"
     ]
    }
   ],
   "source": [
    "#Power of number or exponent\n",
    "X = int(input())\n",
    "N = int(input())\n",
    "\n",
    "Power_X_to_N = X**N\n",
    "print(Power_X_to_N)"
   ]
  },
  {
   "cell_type": "code",
   "execution_count": 8,
   "id": "365dffe7",
   "metadata": {},
   "outputs": [
    {
     "name": "stdout",
     "output_type": "stream",
     "text": [
      "10\n",
      "5\n",
      "20\n",
      "-5\n"
     ]
    }
   ],
   "source": [
    "#Arithmetic Progression Diffrence\n",
    "a = int(input())\n",
    "b = int(input())\n",
    "c = int(input())\n",
    "\n",
    "first_diff = b-a\n",
    "print(first_diff)"
   ]
  },
  {
   "cell_type": "code",
   "execution_count": 9,
   "id": "05b8890b",
   "metadata": {},
   "outputs": [
    {
     "name": "stdout",
     "output_type": "stream",
     "text": [
      "1\n",
      "1\n",
      "3\n",
      "3\n",
      "4\n"
     ]
    }
   ],
   "source": [
    "#Area of rect\n",
    "x1 = int(input())\n",
    "y1 = int(input())\n",
    "x2 = int(input())\n",
    "y2 = int(input())\n",
    "\n",
    "area_rect = (x2-x1)*(y2-y1)\n",
    "print(area_rect)"
   ]
  },
  {
   "cell_type": "code",
   "execution_count": null,
   "id": "ca3c829a",
   "metadata": {},
   "outputs": [],
   "source": []
  }
 ],
 "metadata": {
  "kernelspec": {
   "display_name": "Python 3",
   "language": "python",
   "name": "python3"
  },
  "language_info": {
   "codemirror_mode": {
    "name": "ipython",
    "version": 3
   },
   "file_extension": ".py",
   "mimetype": "text/x-python",
   "name": "python",
   "nbconvert_exporter": "python",
   "pygments_lexer": "ipython3",
   "version": "3.8.8"
  }
 },
 "nbformat": 4,
 "nbformat_minor": 5
}
