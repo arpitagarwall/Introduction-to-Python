{
 "cells": [
  {
   "cell_type": "code",
   "execution_count": 6,
   "id": "17d83bce",
   "metadata": {
    "scrolled": true
   },
   "outputs": [
    {
     "name": "stdout",
     "output_type": "stream",
     "text": [
      "5\n",
      "1 2 3 4 5\n",
      "15\n"
     ]
    }
   ],
   "source": [
    "#Array Sum\n",
    "n = int(input())\n",
    "li = [int(x) for x in input().split()]\n",
    "sum_num = 0\n",
    "for i in li:\n",
    "    sum_num = sum_num + i\n",
    "print(sum_num)"
   ]
  },
  {
   "cell_type": "code",
   "execution_count": 17,
   "id": "16bd4c34",
   "metadata": {},
   "outputs": [
    {
     "name": "stdout",
     "output_type": "stream",
     "text": [
      "1\n",
      "4\n",
      "1 2 3 4\n",
      "2 1 4 3\n"
     ]
    }
   ],
   "source": [
    "#Swap Alternate\n",
    "def swapAlternate(arr, n):\n",
    "    q = 1\n",
    "    final_list = []\n",
    "    for i in range(0, n // 2 + 1, 1):\n",
    "        temp = []\n",
    "        temp.append(arr[i + q - 1:2 * q])\n",
    "        temp = temp[0][::-1]\n",
    "        for j in range(0,len(temp),1):\n",
    "            final_list.append(temp[j])\n",
    "        q = q + 1\n",
    "    return final_list\n",
    "\n",
    "t = int(input())\n",
    "for i in range(0,t,1):\n",
    "    n = int(input())\n",
    "    li_swap = [int(x) for x in input().split()]\n",
    "    li_swap = swapAlternate(li_swap,n)\n",
    "    print(*li_swap, sep = \" \")"
   ]
  },
  {
   "cell_type": "code",
   "execution_count": 15,
   "id": "914319ef",
   "metadata": {},
   "outputs": [
    {
     "name": "stdout",
     "output_type": "stream",
     "text": [
      "1\n",
      "7\n",
      "2 3 1 6 3 6 2\n",
      "1\n"
     ]
    }
   ],
   "source": [
    "#Find Unique\n",
    "def findUnique(arr, n):\n",
    "    list_dup = []\n",
    "    for i in range(0, n,1):\n",
    "        for j in range(i + 1, n,1):\n",
    "            if arr[i] == arr[j]:\n",
    "                list_dup.append(arr[i])\n",
    "    return (x for x in arr if x not in list_dup)\n",
    "\n",
    "t = int(input())\n",
    "for i in range(0,t,1):\n",
    "    n = int(input())\n",
    "    li_swap = [int(x) for x in input().split()]\n",
    "    result = findUnique(li_swap,n)\n",
    "    print(*result)"
   ]
  },
  {
   "cell_type": "code",
   "execution_count": 19,
   "id": "62bcdf6d",
   "metadata": {},
   "outputs": [
    {
     "name": "stdout",
     "output_type": "stream",
     "text": [
      "1\n",
      "5\n",
      "0 2 1 3 1\n",
      "1\n"
     ]
    }
   ],
   "source": [
    "#Find Duplicate\n",
    "def duplicateNumber(arr, n):\n",
    "    unique_num = 0\n",
    "    list_dup = []\n",
    "    for i in range(0, n,1):\n",
    "        for j in range(i + 1, n,1):\n",
    "            if arr[i] == arr[j]:\n",
    "                list_dup.append(arr[i])\n",
    "    return (list_dup[0])\n",
    "\n",
    "t = int(input())\n",
    "for i in range(0,t,1):\n",
    "    n = int(input())\n",
    "    li_swap = [int(x) for x in input().split()]\n",
    "    result = duplicateNumber(li_swap,n)\n",
    "    print(result)"
   ]
  },
  {
   "cell_type": "code",
   "execution_count": 11,
   "id": "74c1bfce",
   "metadata": {},
   "outputs": [
    {
     "name": "stdout",
     "output_type": "stream",
     "text": [
      "1\n",
      "4\n",
      "6 9 8 5\n",
      "5\n",
      "9 2 4 1 8\n",
      "9 8\n"
     ]
    }
   ],
   "source": [
    "#Array Intersection\n",
    "def intersections(arr1, n, arr2, m):\n",
    "    final_list = []\n",
    "    for i in range(0,n,1):\n",
    "        for j in range(0,m,1):\n",
    "            if arr1[i] == arr2[j]:\n",
    "                final_list.append(arr1[i])\n",
    "                arr2[j] = \"-inf\"\n",
    "                break\n",
    "    return final_list\n",
    "\n",
    "t = int(input())\n",
    "for i in range(0,t,1):\n",
    "    n = int(input())\n",
    "    if n == 0:\n",
    "        pass\n",
    "    else:\n",
    "        li_1 = [int(x) for x in input().split()]\n",
    "    m = int(input())\n",
    "    if m == 0:\n",
    "        pass\n",
    "    else:\n",
    "        li_2 = [int(z) for z in input().split()]\n",
    "    if m != 0 and n != 0:\n",
    "        result = intersections(li_1,n,li_2,m)\n",
    "        print(*result, sep = \" \")"
   ]
  },
  {
   "cell_type": "code",
   "execution_count": 40,
   "id": "8e5bbb06",
   "metadata": {},
   "outputs": [
    {
     "name": "stdout",
     "output_type": "stream",
     "text": [
      "1\n",
      "9\n",
      "1 3 6 2 5 4 3 2 4\n",
      "7\n",
      "[7, 7, 7, 7, 7, 7, 7]\n",
      "7\n"
     ]
    }
   ],
   "source": [
    "#Pair Sum\n",
    "def pairSum(arr, n, x):\n",
    "    final_list = []\n",
    "    k = 1\n",
    "    for i in range(0,n,1):\n",
    "        for j in range(k,n,1):\n",
    "            if arr[i] + arr[j] == x:\n",
    "                final_list.append(arr[i] + arr[j])\n",
    "        k = k + 1\n",
    "    return len(final_list)\n",
    "\n",
    "t = int(input())\n",
    "for i in range(0,t,1):\n",
    "    n = int(input())\n",
    "    if n == 0:\n",
    "        print(0)\n",
    "    else:\n",
    "        li_pair = [int(y) for y in input().split()]\n",
    "        x = int(input())\n",
    "        print(pairSum(li_pair, n, x))"
   ]
  },
  {
   "cell_type": "code",
   "execution_count": 13,
   "id": "ef049eb0",
   "metadata": {},
   "outputs": [
    {
     "name": "stdout",
     "output_type": "stream",
     "text": [
      "1\n",
      "7\n",
      "1 2 3 4 5 6 7\n",
      "12\n",
      "5\n"
     ]
    }
   ],
   "source": [
    "#Triplet Sum\n",
    "def findTriplet(arr, n, x):\n",
    "    final_list = []\n",
    "    for i in range(0,n,1):\n",
    "        for j in range(i + 1,n,1):\n",
    "            for k in range(j + 1,n,1):\n",
    "                if arr[i] + arr[j] + arr[k] == x:\n",
    "                    final_list.append(arr[i] + arr[j] + arr[k])\n",
    "    return len(final_list)\n",
    "\n",
    "t = int(input())\n",
    "for i in range(0,t,1):\n",
    "    n = int(input())\n",
    "    if n == 0:\n",
    "        print(0)\n",
    "    else:\n",
    "        li_triplet = [int(y) for y in input().split()]\n",
    "        x = int(input())\n",
    "        print(findTriplet(li_triplet, n, x))"
   ]
  },
  {
   "cell_type": "code",
   "execution_count": 28,
   "id": "b0ff7b8d",
   "metadata": {},
   "outputs": [
    {
     "name": "stdout",
     "output_type": "stream",
     "text": [
      "1\n",
      "11\n",
      "1 1 0 0 1 0 0 0 0 0 1 \n",
      "4\n",
      "0 0 0 0 0 0 0 1 1 1 1\n"
     ]
    }
   ],
   "source": [
    "def sortZeroesAndOne(arr, n):\n",
    "    count = 0\n",
    "    for i in range(0,n,1):\n",
    "        if arr[i] > 0:\n",
    "            arr[i] = 0\n",
    "            count = count + 1\n",
    "    for j in range(n - count,n,1):\n",
    "        arr[j] = 1\n",
    "    return arr\n",
    "\n",
    "t = int(input())\n",
    "for i in range(0,t,1):\n",
    "    n = int(input())\n",
    "    if n == 0:\n",
    "        pass\n",
    "    else:\n",
    "        li_sort = [int(y) for y in input().split()]\n",
    "        result = sortZeroesAndOne(li_sort, n)\n",
    "        print(*result, sep = \" \")"
   ]
  }
 ],
 "metadata": {
  "kernelspec": {
   "display_name": "Python 3",
   "language": "python",
   "name": "python3"
  },
  "language_info": {
   "codemirror_mode": {
    "name": "ipython",
    "version": 3
   },
   "file_extension": ".py",
   "mimetype": "text/x-python",
   "name": "python",
   "nbconvert_exporter": "python",
   "pygments_lexer": "ipython3",
   "version": "3.8.8"
  }
 },
 "nbformat": 4,
 "nbformat_minor": 5
}
