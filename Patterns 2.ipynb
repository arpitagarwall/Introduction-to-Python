{
 "cells": [
  {
   "cell_type": "code",
   "execution_count": 7,
   "id": "c95a3560",
   "metadata": {},
   "outputs": [
    {
     "name": "stdout",
     "output_type": "stream",
     "text": [
      "4\n",
      "4444\n",
      "333\n",
      "22\n",
      "1\n"
     ]
    }
   ],
   "source": [
    "# Inverted Number Pattern\n",
    "n = int(input())\n",
    "i = 1\n",
    "while i <= n:\n",
    "    j = 1\n",
    "    while j <= n - i + 1:\n",
    "        print(n - i + 1, end=\"\")\n",
    "        j = j + 1\n",
    "    print()\n",
    "    i = i + 1"
   ]
  },
  {
   "cell_type": "code",
   "execution_count": 14,
   "id": "dd68562c",
   "metadata": {},
   "outputs": [
    {
     "name": "stdout",
     "output_type": "stream",
     "text": [
      "4\n",
      "   1\n",
      "  12\n",
      " 123\n",
      "1234\n"
     ]
    }
   ],
   "source": [
    "#Mirror Number Pattern\n",
    "n = int(input())\n",
    "i = 1\n",
    "while i <= n:\n",
    "    space = 1\n",
    "    while space <= n - i:\n",
    "        print(\" \", end=\"\")\n",
    "        space = space + 1\n",
    "    number = 1 \n",
    "    while number <= i:\n",
    "        print(number, end=\"\")\n",
    "        number = number + 1\n",
    "    print()\n",
    "    i = i + 1"
   ]
  },
  {
   "cell_type": "code",
   "execution_count": 22,
   "id": "4f898c83",
   "metadata": {},
   "outputs": [
    {
     "name": "stdout",
     "output_type": "stream",
     "text": [
      "5\n",
      "    1\n",
      "   121\n",
      "  12321\n",
      " 1234321\n",
      "123454321\n"
     ]
    }
   ],
   "source": [
    "#Isoceles Trianle\n",
    "n = int(input())\n",
    "i = 1\n",
    "while i <= n:\n",
    "    space = 1\n",
    "    while space <= n - i:\n",
    "        print(\" \", end=\"\")\n",
    "        space = space + 1\n",
    "    number = 1 \n",
    "    while number <= i:\n",
    "        print(number, end=\"\")\n",
    "        number = number + 1\n",
    "    decend = i - 1\n",
    "    while decend >= 1:\n",
    "        print(decend, end=\"\")\n",
    "        decend = decend - 1\n",
    "    print()\n",
    "    i = i + 1"
   ]
  },
  {
   "cell_type": "code",
   "execution_count": 27,
   "id": "cc723785",
   "metadata": {},
   "outputs": [
    {
     "name": "stdout",
     "output_type": "stream",
     "text": [
      "5\n",
      "    *\n",
      "   ***\n",
      "  *****\n",
      " *******\n",
      "*********\n"
     ]
    }
   ],
   "source": [
    "#star Isoceles Trianle\n",
    "n = int(input())\n",
    "i = 1\n",
    "while i <= n:\n",
    "    space = 1\n",
    "    while space <= n - i:\n",
    "        print(\" \", end=\"\")\n",
    "        space = space + 1\n",
    "    number = 1 \n",
    "    while number <= i:\n",
    "        print(\"*\", end=\"\")\n",
    "        number = number + 1\n",
    "    decend = i - 1\n",
    "    while decend >= 1:\n",
    "        print(\"*\", end=\"\")\n",
    "        decend = decend - 1\n",
    "    print()\n",
    "    i = i + 1"
   ]
  },
  {
   "cell_type": "code",
   "execution_count": 32,
   "id": "3adb0cfd",
   "metadata": {},
   "outputs": [
    {
     "name": "stdout",
     "output_type": "stream",
     "text": [
      "4\n",
      "   1\n",
      "  232\n",
      " 34543\n",
      "4567654\n"
     ]
    }
   ],
   "source": [
    "#Triangle of Number\n",
    "n = int(input())\n",
    "i = 1\n",
    "p = 0\n",
    "while i <= n:\n",
    "    spaces = 1\n",
    "    while spaces <= n - i:\n",
    "        print(\" \", end = \"\")\n",
    "        spaces = spaces + 1\n",
    "    number = 1\n",
    "    while number <= i:\n",
    "        print(number + p,end=\"\")\n",
    "        number = number + 1\n",
    "    decend = i - 1\n",
    "    k = 0\n",
    "    while decend >= 1:\n",
    "        print(decend*2 + k,end=\"\")\n",
    "        decend = decend - 1\n",
    "        k = k + 1\n",
    "    print()\n",
    "    i = i + 1\n",
    "    p = p + 1"
   ]
  },
  {
   "cell_type": "code",
   "execution_count": 38,
   "id": "421bc7b4",
   "metadata": {},
   "outputs": [
    {
     "name": "stdout",
     "output_type": "stream",
     "text": [
      "13\n",
      "      *\n",
      "     ***\n",
      "    *****\n",
      "   *******\n",
      "  *********\n",
      " ***********\n",
      "*************\n",
      " ***********\n",
      "  *********\n",
      "   *******\n",
      "    *****\n",
      "     ***\n",
      "      *\n"
     ]
    }
   ],
   "source": [
    "#diamond stars\n",
    "\n",
    "n = int(input())\n",
    "n1 = (n + 1) / 2\n",
    "n2 = n // 2\n",
    "i1 = 1\n",
    "i2 = n2\n",
    "while i1 <= n1:\n",
    "    spaces_1 = 1\n",
    "    while spaces_1 <= (n1 - i1):\n",
    "        print(\" \", end = \"\")\n",
    "        spaces_1 = spaces_1 + 1\n",
    "    stars_1 = 1\n",
    "    while stars_1 <= (2 * i1 - 1):\n",
    "        print(\"*\", end = \"\")\n",
    "        stars_1 = stars_1 + 1\n",
    "    print()\n",
    "    i1 = i1 +1\n",
    "\n",
    "while i2 >= 1:\n",
    "    spaces_2 = 1\n",
    "    while spaces_2 <= (n2 - i2 + 1):\n",
    "        print(\" \", end = \"\")\n",
    "        spaces_2 = spaces_2 + 1\n",
    "    star_2 = 1\n",
    "    while star_2 <= (2 * i2 - 1):\n",
    "        print(\"*\", end  = \"\")\n",
    "        star_2 = star_2 + 1\n",
    "    print()\n",
    "    i2 = i2 - 1"
   ]
  },
  {
   "cell_type": "code",
   "execution_count": 37,
   "id": "b094d478",
   "metadata": {},
   "outputs": [
    {
     "name": "stdout",
     "output_type": "stream",
     "text": [
      "4\n",
      "1      1\n",
      "12    21\n",
      "123  321\n",
      "12344321\n"
     ]
    }
   ],
   "source": [
    "#Number Pattern\n",
    "n = int(input())\n",
    "i = 1\n",
    "while i <= n:\n",
    "    j = 1\n",
    "    while j <= i:\n",
    "        print(j, end = \"\")\n",
    "        j = j + 1\n",
    "    spaces = 1\n",
    "    while spaces <= (n - i):\n",
    "        print(\"  \", end = \"\")\n",
    "        spaces = spaces + 1\n",
    "    q = 1\n",
    "    k = 0\n",
    "    while q <= i:\n",
    "        print(i - k, end = \"\")\n",
    "        q = q + 1\n",
    "        k = k + 1\n",
    "    print()\n",
    "    i = i + 1"
   ]
  },
  {
   "cell_type": "code",
   "execution_count": 73,
   "id": "ece7bab1",
   "metadata": {},
   "outputs": [
    {
     "name": "stdout",
     "output_type": "stream",
     "text": [
      "3\n",
      "*00*00*\n",
      "0*0*0*0\n",
      "00***00\n"
     ]
    }
   ],
   "source": [
    "# Zero and star Pattern\n",
    "n = int(input())\n",
    "i = 1\n",
    "while i <= n:\n",
    "    j = 1\n",
    "    while j <= i - 1:\n",
    "        print(0, end = \"\")\n",
    "        j = j + 1\n",
    "    print(\"*\", end = \"\")\n",
    "    k = 1\n",
    "    while k <= n - i:\n",
    "        print(0, end = \"\")\n",
    "        k = k + 1\n",
    "    print(\"*\", end = \"\")\n",
    "    p = 1\n",
    "    while p <= n - i:\n",
    "        print(0, end = \"\")\n",
    "        p = p + 1\n",
    "    print(\"*\", end = \"\")\n",
    "    q = 1\n",
    "    while q <= i - 1:\n",
    "        q = q + 1\n",
    "        print(0, end = \"\")\n",
    "    print()\n",
    "    i = i + 1"
   ]
  },
  {
   "cell_type": "code",
   "execution_count": 83,
   "id": "fe234195",
   "metadata": {},
   "outputs": [
    {
     "name": "stdout",
     "output_type": "stream",
     "text": [
      "4\n",
      "   1\n",
      "  212\n",
      " 32123\n",
      "4321234\n"
     ]
    }
   ],
   "source": [
    "#pyramid number pattern\n",
    "n = int(input())\n",
    "i = 1\n",
    "while i <= n:\n",
    "    spaces = 1\n",
    "    while spaces <= n - i:\n",
    "        print(\" \", end = \"\")\n",
    "        spaces = spaces + 1\n",
    "    number = 1\n",
    "    while number <= i:\n",
    "        print(i + 1 - number, end = \"\")\n",
    "        number = number  + 1\n",
    "    accend = 1\n",
    "    while accend <= i - 1:\n",
    "        print(accend + 1, end = \"\")\n",
    "        accend =  accend + 1\n",
    "    print()\n",
    "    i = i + 1"
   ]
  },
  {
   "cell_type": "code",
   "execution_count": 95,
   "id": "adae44a6",
   "metadata": {},
   "outputs": [
    {
     "name": "stdout",
     "output_type": "stream",
     "text": [
      "7\n",
      "*  \n",
      " *  *  \n",
      "  *  *  *  \n",
      "   *  *  *  *  \n",
      "  * * * \n",
      " * * \n",
      "* \n"
     ]
    }
   ],
   "source": [
    "#Arrow Pattern\n",
    "n = int(input())\n",
    "n1 = (n + 1) / 2\n",
    "n2 = n // 2\n",
    "i = 1\n",
    "j = 1\n",
    "while i <= n1:\n",
    "    spaces = 1\n",
    "    while spaces <= i - 1:\n",
    "        print(\" \", end = \"\")\n",
    "        spaces = spaces + 1\n",
    "    stars = 1\n",
    "    while stars <= i:\n",
    "        print(\"* \", end = \" \")\n",
    "        stars = stars + 1\n",
    "    print()\n",
    "    i = i + 1\n",
    "while j <= n2:\n",
    "    spaces2 = 1\n",
    "    while spaces2 <= n2 - j:\n",
    "        print(\" \", end = \"\")\n",
    "        spaces2 = spaces2 + 1\n",
    "    stars2 = 1\n",
    "    while stars2 <= n2 -j + 1:\n",
    "        print(\"* \", end = \"\")\n",
    "        stars2 = stars2 + 1\n",
    "    print()\n",
    "    j = j + 1"
   ]
  },
  {
   "cell_type": "code",
   "execution_count": null,
   "id": "6435cca3",
   "metadata": {},
   "outputs": [],
   "source": []
  }
 ],
 "metadata": {
  "kernelspec": {
   "display_name": "Python 3",
   "language": "python",
   "name": "python3"
  },
  "language_info": {
   "codemirror_mode": {
    "name": "ipython",
    "version": 3
   },
   "file_extension": ".py",
   "mimetype": "text/x-python",
   "name": "python",
   "nbconvert_exporter": "python",
   "pygments_lexer": "ipython3",
   "version": "3.8.8"
  }
 },
 "nbformat": 4,
 "nbformat_minor": 5
}
