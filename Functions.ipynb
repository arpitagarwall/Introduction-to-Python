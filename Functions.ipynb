{
 "cells": [
  {
   "cell_type": "code",
   "execution_count": 2,
   "id": "e376aec7",
   "metadata": {},
   "outputs": [
    {
     "name": "stdout",
     "output_type": "stream",
     "text": [
      "0\n",
      "100\n",
      "20\n",
      "0 \t -17\n",
      "20 \t -6\n",
      "40 \t 4\n",
      "60 \t 15\n",
      "80 \t 26\n",
      "100 \t 37\n"
     ]
    }
   ],
   "source": [
    "#Fahrenheit to Celsius Function\n",
    "\n",
    "def printTable(start,end,step):\n",
    "    while start <= end:\n",
    "        Celcius = (start - 32) * 5 / 9\n",
    "        print(start,\"\\t\",int(Celcius))\n",
    "        start = start + step\n",
    "    \n",
    "s = int(input())\n",
    "e = int(input())\n",
    "step = int(input())\n",
    "printTable(s,e,step)"
   ]
  },
  {
   "cell_type": "code",
   "execution_count": 8,
   "id": "1b3c7ca8",
   "metadata": {},
   "outputs": [
    {
     "name": "stdout",
     "output_type": "stream",
     "text": [
      "14\n",
      "false\n"
     ]
    }
   ],
   "source": [
    "# fibonacci Member\n",
    "def checkMember(n):\n",
    "    a = 0\n",
    "    b = 1\n",
    "    flag = False\n",
    "    for i in range(0,n,1):\n",
    "        c = a + b\n",
    "        a = b\n",
    "        b = c\n",
    "        if a == n:\n",
    "            flag =True\n",
    "    return flag\n",
    "\n",
    "n=int(input())\n",
    "if(checkMember(n)):\n",
    "    print(\"true\")\n",
    "else:\n",
    "    print(\"false\")"
   ]
  },
  {
   "cell_type": "code",
   "execution_count": 32,
   "id": "c29227ab",
   "metadata": {},
   "outputs": [
    {
     "name": "stdout",
     "output_type": "stream",
     "text": [
      "1\n",
      "true\n"
     ]
    }
   ],
   "source": [
    "# Palindrome\n",
    "def checkPalindrome(num):\n",
    "    count = 1\n",
    "    str_num = str(num)\n",
    "    result = \"\"\n",
    "    flag = False\n",
    "    while count <= len(str_num):\n",
    "        if str_num[len(str_num) - count] != 0:\n",
    "        \tresult = result + str_num[len(str_num) - count]\n",
    "        count = count + 1\n",
    "    rev_num = int(result)\n",
    "    if num == rev_num:\n",
    "        flag = True\n",
    "    return flag\n",
    "\n",
    "num = int(input())\n",
    "isPalindrome = checkPalindrome(num)\n",
    "if(isPalindrome):\n",
    "\tprint('true')\n",
    "else:\n",
    "\tprint('false')"
   ]
  },
  {
   "cell_type": "code",
   "execution_count": 37,
   "id": "f835e2aa",
   "metadata": {},
   "outputs": [
    {
     "name": "stdout",
     "output_type": "stream",
     "text": [
      "371\n",
      "true\n"
     ]
    }
   ],
   "source": [
    "def armstrong_number(n):\n",
    "    str_num = str(n)\n",
    "    result = 0\n",
    "    flag = False\n",
    "    for i in range(0,len(str_num),1):\n",
    "        a = int(str_num[i]) ** int(len(str_num))\n",
    "        result = result + a\n",
    "    if result == n:\n",
    "        flag = True\n",
    "    return flag\n",
    "n = int(input())\n",
    "isArmstrong = armstrong_number(n)\n",
    "if isArmstrong:\n",
    "    print(\"true\")\n",
    "else:\n",
    "    print(\"false\")"
   ]
  },
  {
   "cell_type": "code",
   "execution_count": null,
   "id": "a0851c68",
   "metadata": {},
   "outputs": [],
   "source": []
  }
 ],
 "metadata": {
  "kernelspec": {
   "display_name": "Python 3",
   "language": "python",
   "name": "python3"
  },
  "language_info": {
   "codemirror_mode": {
    "name": "ipython",
    "version": 3
   },
   "file_extension": ".py",
   "mimetype": "text/x-python",
   "name": "python",
   "nbconvert_exporter": "python",
   "pygments_lexer": "ipython3",
   "version": "3.8.8"
  }
 },
 "nbformat": 4,
 "nbformat_minor": 5
}
