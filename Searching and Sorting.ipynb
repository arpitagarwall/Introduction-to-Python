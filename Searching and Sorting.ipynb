{
 "cells": [
  {
   "cell_type": "code",
   "execution_count": 18,
   "id": "2831f5e3",
   "metadata": {},
   "outputs": [
    {
     "name": "stdout",
     "output_type": "stream",
     "text": [
      "11\n",
      "1 4 8 10 15 19 24 28 32 33 35\n",
      "1\n",
      "40\n",
      "-1\n"
     ]
    }
   ],
   "source": [
    "#Code Binary Search\n",
    "def binarySearch(arr, n, x):\n",
    "    start = 0\n",
    "    end = len(arr) - 1\n",
    "    while start <= end:\n",
    "        mid = (start + end) // 2\n",
    "        if arr[mid] == x:\n",
    "            return mid\n",
    "        elif arr[mid] > x:\n",
    "            end = mid - 1\n",
    "        else:\n",
    "            start = mid + 1\n",
    "    return -1\n",
    "\n",
    "n = int(input())\n",
    "if n != 0:\n",
    "    arr = [int(x) for x in input().split()]\n",
    "t = int(input())\n",
    "\n",
    "while t > 0 :\n",
    "    x = int(input())\n",
    "    if n != 0:\n",
    "        print(binarySearch(arr, n, x))\n",
    "    else:\n",
    "        print(-1)\n",
    "        break\n",
    "    t = t - 1"
   ]
  },
  {
   "cell_type": "code",
   "execution_count": 36,
   "id": "146dda22",
   "metadata": {},
   "outputs": [
    {
     "name": "stdout",
     "output_type": "stream",
     "text": [
      "[0, 1, 2, 3, 5, 6, 7]\n"
     ]
    }
   ],
   "source": [
    "# Selection Sort\n",
    "arr = [1,5,3,7,2,6,0]\n",
    "count = 0\n",
    "while count < len(arr):\n",
    "    flag = count\n",
    "    while flag + 1 <= len(arr):\n",
    "        if arr[count] > arr[flag]:\n",
    "            arr[count], arr[flag] = arr[flag], arr[count]\n",
    "        flag = flag + 1\n",
    "    count = count + 1\n",
    "print(arr)"
   ]
  },
  {
   "cell_type": "code",
   "execution_count": 1,
   "id": "21ebe1df",
   "metadata": {},
   "outputs": [
    {
     "name": "stdout",
     "output_type": "stream",
     "text": [
      "1\n",
      "7\n",
      "2 13 4 1 3 6 28\n",
      "1 2 3 4 6 13 28\n"
     ]
    }
   ],
   "source": [
    "#Bubble Sort\n",
    "def bubbleSort(arr, n):\n",
    "    for i in range(1,n,1):\n",
    "        for j in range(0,n-1,1):\n",
    "            if arr[j] > arr[j+1]:\n",
    "                arr[j],arr[j+1] = arr[j+1],arr[j]\n",
    "    return arr\n",
    "    \n",
    "\n",
    "t = int(input())\n",
    "while t > 0 :\n",
    "    n = int(input())\n",
    "    if n != 0:\n",
    "        arr = [int(x) for x in input().split()]\n",
    "        sorted_li = bubbleSort(arr, n)\n",
    "        print(*sorted_li, sep = \" \")\n",
    "    t = t - 1"
   ]
  },
  {
   "cell_type": "code",
   "execution_count": 12,
   "id": "1196374a",
   "metadata": {},
   "outputs": [
    {
     "name": "stdout",
     "output_type": "stream",
     "text": [
      "1\n",
      "7\n",
      "2 13 4 1 3 6 28\n",
      "1 2 3 4 6 13 28\n"
     ]
    }
   ],
   "source": [
    "#insertion sort\n",
    "def insertionSort(arr, n):\n",
    "    for i in range(0,len(arr),1):\n",
    "        for j in range(i + 1, len(arr),1):\n",
    "            if arr[i] > arr[j]:\n",
    "                arr[i], arr[j] = arr[j], arr[i]\n",
    "    return arr\n",
    "t = int(input())\n",
    "while t > 0 :\n",
    "    n = int(input())\n",
    "    if n != 0:\n",
    "        arr = [int(x) for x in input().split()]\n",
    "        sorted_li = insertionSort(arr, n)\n",
    "        print(*sorted_li, sep = \" \")\n",
    "    t = t - 1"
   ]
  },
  {
   "cell_type": "code",
   "execution_count": 21,
   "id": "5ce9e07e",
   "metadata": {},
   "outputs": [
    {
     "name": "stdout",
     "output_type": "stream",
     "text": [
      "1\n",
      "5\n",
      "1 3 4 7 11\n",
      "4\n",
      "2 4 6 13\n",
      "1 2 3 4 4 6 7 11 13\n"
     ]
    }
   ],
   "source": [
    "# Merge 2 Sorted Arrays\n",
    "def merge(arr1, n, arr2, m):\n",
    "    i = 0\n",
    "    j = 0\n",
    "    sorted_list = []\n",
    "    while i < len(arr1) and j < len(arr2):\n",
    "        if arr1[i] > arr2[j]:\n",
    "            sorted_list.append(arr2[j])\n",
    "            j = j + 1\n",
    "        else:\n",
    "            sorted_list.append(arr1[i])\n",
    "            i = i + 1\n",
    "    sorted_list = sorted_list + arr1[i:] + arr2[j:]\n",
    "    return sorted_list\n",
    "            \n",
    "t = int(input())\n",
    "while t > 0 :\n",
    "    n = int(input())\n",
    "    if n != 0:\n",
    "        arr_n = [int(x) for x in input().split()]\n",
    "    m = int(input())\n",
    "    if m != 0:\n",
    "        arr_m = [int(y) for y in input().split()]\n",
    "    if n != 0 and m != 0:\n",
    "        result = merge(arr_n,n,arr_m,m)\n",
    "        print(*result, sep = \" \")\n",
    "    elif n != 0 and m == 0:\n",
    "        print(*arr_n, sep = \" \")\n",
    "    elif n == 0 and m != 0:\n",
    "        print(*arr_m, sep = \" \")\n",
    "    else:\n",
    "        pass\n",
    "    t = t - 1"
   ]
  },
  {
   "cell_type": "code",
   "execution_count": 32,
   "id": "2821a949",
   "metadata": {},
   "outputs": [
    {
     "name": "stdout",
     "output_type": "stream",
     "text": [
      "1\n",
      "6\n",
      "5 8 7 4 3 1\n",
      "5 8 7 4 3 1\n"
     ]
    }
   ],
   "source": [
    "# Push Zeroes to end\n",
    "def pushZerosAtEnd(arr, n):\n",
    "    zero_end = []\n",
    "    count = 0\n",
    "    for i in range(0,n,1):\n",
    "        if arr[i] != 0:\n",
    "            zero_end.append(arr[i])\n",
    "            count = count + 1\n",
    "    for j in range(0,n-count,1):\n",
    "        zero_end.append(0)\n",
    "    return zero_end\n",
    "\n",
    "t = int(input())\n",
    "while t > 0 :\n",
    "    n = int(input())\n",
    "    if n != 0:\n",
    "        arr = [int(x) for x in input().split()]\n",
    "        sorted_li = pushZerosAtEnd(arr, n)\n",
    "        print(*sorted_li, sep = \" \")\n",
    "    else:\n",
    "        pass\n",
    "    t = t - 1"
   ]
  },
  {
   "cell_type": "code",
   "execution_count": 41,
   "id": "03207581",
   "metadata": {},
   "outputs": [
    {
     "name": "stdout",
     "output_type": "stream",
     "text": [
      "1\n",
      "7\n",
      "1 2 3 4 5 6 7\n",
      "2\n",
      "3 4 5 6 7 1 2\n"
     ]
    }
   ],
   "source": [
    "#Rotate Array\n",
    "def rotate(arr, n, d):\n",
    "    temp = []\n",
    "    temp = arr[0:d]\n",
    "    if d != 0:\n",
    "        for i in range(0,n-d,1):\n",
    "            arr[i] = arr[i + d]\n",
    "    arr = arr[0:n-d]\n",
    "    arr.extend(temp)\n",
    "    return arr\n",
    "\n",
    "t = int(input())\n",
    "while t > 0 :\n",
    "    n = int(input())\n",
    "    if n != 0:\n",
    "        arr = [int(x) for x in input().split()]\n",
    "        d = int(input())\n",
    "        sorted_li = rotate(arr, n, d)\n",
    "        print(*sorted_li, sep = \" \")\n",
    "    else:\n",
    "        pass\n",
    "    t = t - 1"
   ]
  },
  {
   "cell_type": "code",
   "execution_count": 46,
   "id": "31ffd5db",
   "metadata": {},
   "outputs": [
    {
     "name": "stdout",
     "output_type": "stream",
     "text": [
      "1\n",
      "7\n",
      "2 13 4 1 3 6 28\n",
      "13\n"
     ]
    }
   ],
   "source": [
    "#Second Largest Element\n",
    "def secondLargestElement(arr, n):\n",
    "    l = -2147483648\n",
    "    s = -2147483648\n",
    "    for i in range(0, n,1):\n",
    "        if l < arr[i]:\n",
    "            s = l\n",
    "            l = arr[i]\n",
    "        elif arr[i] < l and arr[i] > s:\n",
    "            s = arr[i]\n",
    "    return s\n",
    "\n",
    "t = int(input())\n",
    "while t > 0 :\n",
    "    n = int(input())\n",
    "    if n != 0:\n",
    "        arr = [int(x) for x in input().split()]\n",
    "        second_largest = secondLargestElement(arr, n)\n",
    "        print(second_largest)\n",
    "    else:\n",
    "        print(-2147483648)\n",
    "    t = t - 1"
   ]
  },
  {
   "cell_type": "code",
   "execution_count": 51,
   "id": "cb6a6109",
   "metadata": {},
   "outputs": [
    {
     "name": "stdout",
     "output_type": "stream",
     "text": [
      "1\n",
      "6\n",
      "5 6 1 2 3 4\n",
      "2\n"
     ]
    }
   ],
   "source": [
    "#Rotate array check\n",
    "def arrayRotateCheck(arr, n):\n",
    "    index_rotate = 0\n",
    "    for i in range(0,len(arr) - 1,1):\n",
    "        if arr[i] > arr[i + 1]:\n",
    "            index_rotate = i + 1\n",
    "    return index_rotate\n",
    "            \n",
    "    \n",
    "t = int(input())\n",
    "while t > 0 :\n",
    "    n = int(input())\n",
    "    if n != 0:\n",
    "        arr = [int(x) for x in input().split()]\n",
    "        rotate_check = arrayRotateCheck(arr, n)\n",
    "        print(rotate_check)\n",
    "    else:\n",
    "        print(0)\n",
    "    t = t - 1"
   ]
  },
  {
   "cell_type": "code",
   "execution_count": 53,
   "id": "2ca853fa",
   "metadata": {},
   "outputs": [
    {
     "name": "stdout",
     "output_type": "stream",
     "text": [
      "1\n",
      "7\n",
      "0 1 2 0 2 0 1\n",
      "0 0 0 1 1 2 2\n"
     ]
    }
   ],
   "source": [
    "#Sort Array 012\n",
    "def sort012(arr, n):\n",
    "    li_0 = []\n",
    "    li_1 = []\n",
    "    li_2 = []\n",
    "    result = []\n",
    "    for i in range(0,len(arr),1):\n",
    "        if arr[i] == 0:\n",
    "            li_0.append(arr[i])\n",
    "        elif arr[i] == 1:\n",
    "            li_1.append(arr[i])\n",
    "        else:\n",
    "            li_2.append(arr[i])\n",
    "    result.extend(li_0)\n",
    "    result.extend(li_1)\n",
    "    result.extend(li_2)\n",
    "    return result\n",
    "\n",
    "t = int(input())\n",
    "while t > 0 :\n",
    "    n = int(input())\n",
    "    if n != 0:\n",
    "        arr = [int(x) for x in input().split()]\n",
    "        sorted_list = sort012(arr, n)\n",
    "        print(*sorted_list, sep = \" \")\n",
    "    else:\n",
    "        pass\n",
    "    t = t - 1"
   ]
  },
  {
   "cell_type": "code",
   "execution_count": 4,
   "id": "11b6d0db",
   "metadata": {},
   "outputs": [
    {
     "name": "stdout",
     "output_type": "stream",
     "text": [
      "1\n",
      "3\n",
      "8 5 2\n",
      "2\n",
      "1 3\n",
      "0 8 6 5\n"
     ]
    }
   ],
   "source": [
    "# Sum of two arrays\n",
    "def sumOfTwoArrays(arr1, n, arr2, m):\n",
    "    i = n - 1 \n",
    "    j = m - 1 \n",
    "    carry = 0\n",
    "    k = max(n, m) #k is the current index output array \n",
    "    outputSize = (1 + max(n, m))\n",
    "    output = outputSize * [0]\n",
    "    while i >= 0 and j >= 0 : \n",
    "        SUM = arr1[i] + arr2[j] + carry\n",
    "        output[k] = SUM % 10 \n",
    "        carry = SUM // 10 \n",
    "        i = i - 1 \n",
    "        j = j - 1 \n",
    "        k = k - 1 \n",
    "    while i >= 0 : \n",
    "        SUM = arr1[i] + carry\n",
    "        output[k] = SUM % 10\n",
    "        carry = SUM // 10 \n",
    "        i = i - 1 \n",
    "        k = k - 1 \n",
    "    while j >= 0 : \n",
    "        SUM = arr2[j] + carry\n",
    "        output[k] = SUM % 10\n",
    "        carry = SUM // 10 \n",
    "        j = j - 1 \n",
    "        k = k - 1 \n",
    "    output[0] = carry\n",
    "    return output\n",
    "\n",
    "t = int(input())\n",
    "while t > 0 :\n",
    "    n = int(input())\n",
    "    if n != 0:\n",
    "        arr_n = [int(x) for x in input().split()]\n",
    "    m = int(input())\n",
    "    if m != 0:\n",
    "        arr_m = [int(y) for y in input().split()]\n",
    "        \n",
    "    if n != 0 and m != 0:\n",
    "        result = sumOfTwoArrays(arr_n,n,arr_m,m)\n",
    "        print(*result, sep = \" \")\n",
    "    elif n != 0 and m == 0:\n",
    "        arr_n.insert(0,0)\n",
    "        print(*arr_n, sep = \" \")\n",
    "    elif n == 0 and m != 0:\n",
    "        arr_m.insert(0,0)\n",
    "        print(*arr_m, sep = \" \")\n",
    "    else:\n",
    "        print(0)\n",
    "    t = t - 1"
   ]
  }
 ],
 "metadata": {
  "kernelspec": {
   "display_name": "Python 3",
   "language": "python",
   "name": "python3"
  },
  "language_info": {
   "codemirror_mode": {
    "name": "ipython",
    "version": 3
   },
   "file_extension": ".py",
   "mimetype": "text/x-python",
   "name": "python",
   "nbconvert_exporter": "python",
   "pygments_lexer": "ipython3",
   "version": "3.8.8"
  }
 },
 "nbformat": 4,
 "nbformat_minor": 5
}
