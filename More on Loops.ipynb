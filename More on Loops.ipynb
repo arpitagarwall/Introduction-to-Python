{
 "cells": [
  {
   "cell_type": "code",
   "execution_count": 29,
   "id": "efb60e74",
   "metadata": {},
   "outputs": [
    {
     "name": "stdout",
     "output_type": "stream",
     "text": [
      "6\n",
      "111111\n",
      "00000\n",
      "1111\n",
      "000\n",
      "11\n",
      "0\n"
     ]
    }
   ],
   "source": [
    "# Binary Pattern \n",
    "n = int(input())\n",
    "for i in range(1, n + 1, 1):\n",
    "    for k in range(1, n - i + 2, 1):\n",
    "        if i % 2 != 0:\n",
    "            print(1,end=\"\")\n",
    "        else:\n",
    "            print(0,end=\"\")\n",
    "    print()"
   ]
  },
  {
   "cell_type": "code",
   "execution_count": 72,
   "id": "d82fbedc",
   "metadata": {},
   "outputs": [
    {
     "name": "stdout",
     "output_type": "stream",
     "text": [
      "9\n",
      "123456789\n",
      " 23456789\n",
      "  3456789\n",
      "   456789\n",
      "    56789\n",
      "     6789\n",
      "      789\n",
      "       89\n",
      "        9\n",
      "       89\n",
      "      789\n",
      "     6789\n",
      "    56789\n",
      "   456789\n",
      "  3456789\n",
      " 23456789\n",
      "123456789\n"
     ]
    }
   ],
   "source": [
    "#Pyramid Number\n",
    "n = int(input())\n",
    "for i in range(1, n + 1, 1):\n",
    "    for space_1 in range(1, i, 1):\n",
    "        print(\" \", end = \"\")\n",
    "    for j in range(i, n+1, 1):\n",
    "        print(j, end = \"\")\n",
    "    print()\n",
    "for k in range(1, n , 1):\n",
    "    for space_2 in range(1, n - k, 1):\n",
    "        print(\" \", end = \"\")\n",
    "    for q in range(n - k, n + 1, 1):\n",
    "        print(q, end = \"\")\n",
    "    print()"
   ]
  },
  {
   "cell_type": "code",
   "execution_count": 80,
   "id": "535036d1",
   "metadata": {},
   "outputs": [
    {
     "name": "stdout",
     "output_type": "stream",
     "text": [
      "7\n",
      "   *\n",
      "  ***\n",
      " *****\n",
      "*******\n",
      " *****\n",
      "  ***\n",
      "   *\n"
     ]
    }
   ],
   "source": [
    "#Diamond of stars\n",
    "n = int(input())\n",
    "n1 = (n + 1) // 2\n",
    "n2 = n // 2\n",
    "i1 = 1\n",
    "i2 = 1\n",
    "for i1 in range(1, n1 + 1, 1):\n",
    "    for spaces_1 in range(1, n1 - i1 + 1, 1):\n",
    "        print(\" \", end = \"\")\n",
    "    for star_1 in range(1, 2 * i1, 1):\n",
    "        print(\"*\", end = \"\")\n",
    "    print()\n",
    "for i2 in range(1, n2 + 1, 1):\n",
    "    for spaces_2 in range(1,(i2 + 1),1):\n",
    "        print(\" \", end = \"\")\n",
    "    for star_2 in range(2 * n2 - i2 + 1, i2, -1):\n",
    "        print(\"*\", end = \"\")\n",
    "    print()"
   ]
  },
  {
   "cell_type": "code",
   "execution_count": 8,
   "id": "f8215d75",
   "metadata": {},
   "outputs": [
    {
     "name": "stdout",
     "output_type": "stream",
     "text": [
      "3\n",
      "33333\n",
      "32223\n",
      "32123\n",
      "32223\n",
      "33333\n"
     ]
    }
   ],
   "source": [
    "#Rectangular Numbers\n",
    "\n",
    "n = int(input())\n",
    "for i in range(1,n+1):\n",
    "    temp = n\n",
    "    for j in range(1,i,1):\n",
    "        print(temp, end=\"\")\n",
    "        temp = temp - 1\n",
    "    for j in range(1,(2*n) - (2*i) + 2, 1):\n",
    "        print(n-i+1, end=\"\")\n",
    "    for j in range(1,i,1):\n",
    "        temp = temp + 1\n",
    "        print(temp, end = \"\")\n",
    "    print()\n",
    "    \n",
    "for i in range(n-1,0,-1):\n",
    "    temp = n\n",
    "    for j in range(1, i, 1):\n",
    "        print(temp, end = \"\")\n",
    "        temp = temp - 1\n",
    "    for j in range(1,(2*n) - (2*i) + 2, 1):\n",
    "        print(n-i+1, end=\"\")\n",
    "    for j in range(1,i,1):\n",
    "        temp = temp + 1\n",
    "        print(temp, end = \"\")\n",
    "    print()\n",
    "    \n",
    "# n=int(input())\n",
    "# for i in range(1,n+1):\n",
    "#     k=n-i+1\n",
    "#     d=k\n",
    "#     h=n\n",
    "#     for s in range(1,n+1):\n",
    "#         if h>=(n-i+1):\n",
    "#             print(h,end=\"\")\n",
    "#             t=h\n",
    "#             h-=1\n",
    "#         else:\n",
    "#             print(t,end=\"\")\n",
    "#     b=n+1\n",
    "#     while b<2*n:\n",
    "#         if d==k:\n",
    "#             for c in range(k-1):\n",
    "#                 print(k,end=\"\") \n",
    "#                 b+=1\n",
    "#         if b<2*n:\n",
    "#             k+=1\n",
    "#             print(k,end=\"\")\n",
    "#         b+=1\n",
    "#     print()\n",
    "\n",
    "# for i in range (n+1,2*n,1):\n",
    "#     s=i-n\n",
    "#     k=n\n",
    "#     for j in range (1,n+1,1):\n",
    "#         if(k>=s+1):\n",
    "#             print(k,end=\"\")\n",
    "#             h=k\n",
    "#             k-=1\n",
    "#         else:\n",
    "#             print(h,end=\"\")\n",
    "#     j=n+1\n",
    "#     t=s+1\n",
    "#     while j<2*n:\n",
    "#         if t==s+1:\n",
    "#             for u in range(s):\n",
    "#                 print(s+1,end=\"\")\n",
    "#                 j+=1\n",
    "#         if j<2*n:\n",
    "#             print(t+1,end=\"\")\n",
    "#             t+=1\n",
    "#         j+=1\n",
    "#     print()"
   ]
  },
  {
   "cell_type": "code",
   "execution_count": 105,
   "id": "14626ca4",
   "metadata": {},
   "outputs": [
    {
     "name": "stdout",
     "output_type": "stream",
     "text": [
      "4\n",
      "1 2 3 4 \n",
      "9 10 11 12 \n",
      "13 14 15 16 \n",
      "5 6 7 8 \n"
     ]
    }
   ],
   "source": [
    "#Print the Pattern\n",
    "import math\n",
    "n = int(input())\n",
    "for i in range(0, math.ceil(n/2), 1):\n",
    "    for j in range(1, n+1, 1):\n",
    "        print(2 * n * i + j, end = \" \")\n",
    "    print()\n",
    "for i in range(n // 2,0, -1):\n",
    "    for j in range(1, n+1, 1):\n",
    "        print(n * (2 * i - 1) + j, end = \" \")\n",
    "    print()"
   ]
  }
 ],
 "metadata": {
  "kernelspec": {
   "display_name": "Python 3",
   "language": "python",
   "name": "python3"
  },
  "language_info": {
   "codemirror_mode": {
    "name": "ipython",
    "version": 3
   },
   "file_extension": ".py",
   "mimetype": "text/x-python",
   "name": "python",
   "nbconvert_exporter": "python",
   "pygments_lexer": "ipython3",
   "version": "3.8.8"
  }
 },
 "nbformat": 4,
 "nbformat_minor": 5
}
